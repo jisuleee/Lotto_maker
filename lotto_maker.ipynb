{
 "cells": [
  {
   "cell_type": "code",
   "execution_count": 1,
   "metadata": {},
   "outputs": [],
   "source": [
    "# import 함수들\n",
    "\n",
    "import random as R # random을 R로 사용가능 # 난수생성 위함\n",
    "import time # sleep()통해 긴장감있게 로또 번호 발표\n"
   ]
  },
  {
   "cell_type": "markdown",
   "metadata": {},
   "source": [
    "## 1. 번호를 담을 리스트 만들기\n",
    "\n",
    "## 2. 리스트에 1부터 45까지 채우기 "
   ]
  },
  {
   "cell_type": "code",
   "execution_count": 2,
   "metadata": {},
   "outputs": [
    {
     "name": "stdout",
     "output_type": "stream",
     "text": [
      "[1, 2, 3, 4, 5, 6, 7, 8, 9, 10, 11, 12, 13, 14, 15, 16, 17, 18, 19, 20, 21, 22, 23, 24, 25, 26, 27, 28, 29, 30, 31, 32, 33, 34, 35, 36, 37, 38, 39, 40, 41, 42, 43, 44, 45]\n"
     ]
    }
   ],
   "source": [
    "lotto = []  #빈 리스트 선언\n",
    "\n",
    "for i in range(45):\n",
    "    lotto.insert(i,i+1)\n",
    "    \n",
    "print(lotto)"
   ]
  },
  {
   "cell_type": "markdown",
   "metadata": {},
   "source": [
    "## 1. 잘 섞이였는지 확인하는 판(섞기전)\n",
    "\n",
    "## 2. 한줄에 10개씩 나타내기"
   ]
  },
  {
   "cell_type": "code",
   "execution_count": 3,
   "metadata": {},
   "outputs": [
    {
     "name": "stdout",
     "output_type": "stream",
     "text": [
      "01 02 03 04 05 06 07 08 09 10 \n",
      "11 12 13 14 15 16 17 18 19 20 \n",
      "21 22 23 24 25 26 27 28 29 30 \n",
      "31 32 33 34 35 36 37 38 39 40 \n",
      "41 42 43 44 45 \n",
      "******************** 섞기전 ********************\n"
     ]
    }
   ],
   "source": [
    "for i in range(45) : # 0부터 45-1까지\n",
    "    print(\"%02d\" %lotto[i], end=' ')\n",
    "    if (i+1) % 10 == 0 : # 연산순서 위해 ()삽입\n",
    "        print(\"\")\n",
    "    \n",
    "print(\"\")\n",
    "print(\"*\"*20,\"섞기전\",\"*\" * 20)"
   ]
  },
  {
   "cell_type": "markdown",
   "metadata": {},
   "source": [
    "## 목적: 중복번호가 나오지 않도록 섞는다\n",
    "\n",
    "## 알고리즘 \n",
    "1. lotto[0](고정)와  lotto[1] ~ lotto[44]중에서 랜덤한 위치를 선택해서 두 기억장소의 값을 교환한다. \n",
    "2. 1과정을 충분한 횟수동안 반복시행하여 번호판 안에서 전체가 섞이도록 한다 "
   ]
  },
  {
   "cell_type": "code",
   "execution_count": 4,
   "metadata": {},
   "outputs": [
    {
     "name": "stdout",
     "output_type": "stream",
     "text": [
      "[11, 31, 25, 9, 6, 37, 35, 12, 20, 45, 14, 8, 30, 43, 32, 34, 7, 33, 15, 2, 17, 18, 42, 23, 41, 5, 22, 27, 44, 24, 10, 36, 4, 39, 40, 13, 3, 19, 28, 16, 1, 29, 26, 21, 38]\n",
      "******************** 섞은 후 ********************\n"
     ]
    }
   ],
   "source": [
    "for i in range(100000) :\n",
    "    k = R.randrange(1,45)   #import random as R  \n",
    "    lotto[0], lotto[k] = lotto[k], lotto[0] \n",
    "    \n",
    "    # 위 문법은 파이썬에서만 가능\n",
    "    \n",
    "    # 값 교환 \n",
    "    # temp = lotto[0]\n",
    "    # lotto[0] = lotto[k]\n",
    "    # lotto[k] = temp\n",
    "    \n",
    "print(lotto)\n",
    "print(\"*\"*20,\"섞은 후\",\"*\"*20)"
   ]
  },
  {
   "cell_type": "code",
   "execution_count": 5,
   "metadata": {},
   "outputs": [
    {
     "name": "stdout",
     "output_type": "stream",
     "text": [
      "11 31 25 09 06 37 35 12 20 45  \n",
      "14 08 30 43 32 34 07 33 15 02  \n",
      "17 18 42 23 41 05 22 27 44 24  \n",
      "10 36 04 39 40 13 03 19 28 16  \n",
      "01 29 26 21 38  \n",
      "******************** 섞은 후 ********************\n"
     ]
    }
   ],
   "source": [
    "for i in range(45) :\n",
    "    print(\"%02d\"%lotto[i], end=\" \")\n",
    "    if (i+1) % 10 == 0 :\n",
    "        print(\" \")\n",
    "\n",
    "print(\" \")\n",
    "print(\"*\"*20,\"섞은 후\",\"*\"*20)\n"
   ]
  },
  {
   "cell_type": "markdown",
   "metadata": {},
   "source": [
    "## 6개의 로또 번호 추출\n",
    "\n",
    "### 방법 : 45개의 숫자들이 충분히 섞였으므로 숫자판의 1~6번째 인덱스의 값을 뽑아낸다"
   ]
  },
  {
   "cell_type": "code",
   "execution_count": 7,
   "metadata": {},
   "outputs": [
    {
     "name": "stdout",
     "output_type": "stream",
     "text": [
      "로또 번호 발표: 11 31 25 9 6 37 보너스 번호: 20\n"
     ]
    }
   ],
   "source": [
    "print(\"로또 번호 발표:\",end=\" \")\n",
    "for i in range(6) :\n",
    "    print(lotto[i],end=\" \")\n",
    "    time.sleep(2)  #sleep() 메소드에 프로그래을 멈추는 시간은 '초' 단위로 지정한다.\n",
    "    \n",
    "print(\"보너스 번호:\",lotto[8])\n",
    "    "
   ]
  },
  {
   "cell_type": "code",
   "execution_count": null,
   "metadata": {},
   "outputs": [],
   "source": []
  }
 ],
 "metadata": {
  "kernelspec": {
   "display_name": "Python 3",
   "language": "python",
   "name": "python3"
  },
  "language_info": {
   "codemirror_mode": {
    "name": "ipython",
    "version": 3
   },
   "file_extension": ".py",
   "mimetype": "text/x-python",
   "name": "python",
   "nbconvert_exporter": "python",
   "pygments_lexer": "ipython3",
   "version": "3.7.3"
  }
 },
 "nbformat": 4,
 "nbformat_minor": 2
}
